{
 "cells": [
  {
   "cell_type": "code",
   "execution_count": 2,
   "metadata": {},
   "outputs": [
    {
     "name": "stdout",
     "output_type": "stream",
     "text": [
      "Collecting mysql-connector-python\n",
      "  Obtaining dependency information for mysql-connector-python from https://files.pythonhosted.org/packages/24/02/a5b6271da75cd7f67d9ec834cd79c8d65c1329e1eddfb707c56ded963d3d/mysql_connector_python-8.1.0-cp38-cp38-win_amd64.whl.metadata\n",
      "  Downloading mysql_connector_python-8.1.0-cp38-cp38-win_amd64.whl.metadata (2.1 kB)\n",
      "Collecting protobuf<=4.21.12,>=4.21.1 (from mysql-connector-python)\n",
      "  Downloading protobuf-4.21.12-cp38-cp38-win_amd64.whl (527 kB)\n",
      "     ---------------------------------------- 0.0/527.0 kB ? eta -:--:--\n",
      "     --------------------------- --------- 389.1/527.0 kB 12.2 MB/s eta 0:00:01\n",
      "     -------------------------------------- 527.0/527.0 kB 8.3 MB/s eta 0:00:00\n",
      "Downloading mysql_connector_python-8.1.0-cp38-cp38-win_amd64.whl (10.8 MB)\n",
      "   ---------------------------------------- 0.0/10.8 MB ? eta -:--:--\n",
      "   - -------------------------------------- 0.5/10.8 MB 15.5 MB/s eta 0:00:01\n",
      "   --- ------------------------------------ 0.9/10.8 MB 8.5 MB/s eta 0:00:02\n",
      "   ----- ---------------------------------- 1.4/10.8 MB 9.7 MB/s eta 0:00:01\n",
      "   ------ --------------------------------- 1.8/10.8 MB 9.6 MB/s eta 0:00:01\n",
      "   ------- -------------------------------- 2.1/10.8 MB 9.5 MB/s eta 0:00:01\n",
      "   ------- -------------------------------- 2.1/10.8 MB 9.5 MB/s eta 0:00:01\n",
      "   ------- -------------------------------- 2.1/10.8 MB 9.5 MB/s eta 0:00:01\n",
      "   ------- -------------------------------- 2.1/10.8 MB 9.5 MB/s eta 0:00:01\n",
      "   ------- -------------------------------- 2.1/10.8 MB 9.5 MB/s eta 0:00:01\n",
      "   -------- ------------------------------- 2.2/10.8 MB 4.5 MB/s eta 0:00:02\n",
      "   --------- ------------------------------ 2.6/10.8 MB 4.7 MB/s eta 0:00:02\n",
      "   ---------- ----------------------------- 3.0/10.8 MB 5.0 MB/s eta 0:00:02\n",
      "   ------------ --------------------------- 3.4/10.8 MB 5.2 MB/s eta 0:00:02\n",
      "   ------------- -------------------------- 3.7/10.8 MB 5.4 MB/s eta 0:00:02\n",
      "   --------------- ------------------------ 4.2/10.8 MB 5.7 MB/s eta 0:00:02\n",
      "   ---------------- ----------------------- 4.6/10.8 MB 5.9 MB/s eta 0:00:02\n",
      "   ---------------- ----------------------- 4.6/10.8 MB 5.9 MB/s eta 0:00:02\n",
      "   ---------------- ----------------------- 4.6/10.8 MB 5.9 MB/s eta 0:00:02\n",
      "   ---------------- ----------------------- 4.6/10.8 MB 5.9 MB/s eta 0:00:02\n",
      "   ---------------- ----------------------- 4.6/10.8 MB 5.9 MB/s eta 0:00:02\n",
      "   ---------------- ----------------------- 4.6/10.8 MB 5.9 MB/s eta 0:00:02\n",
      "   ---------------- ----------------------- 4.6/10.8 MB 5.9 MB/s eta 0:00:02\n",
      "   ---------------- ----------------------- 4.6/10.8 MB 5.9 MB/s eta 0:00:02\n",
      "   ---------------- ----------------------- 4.6/10.8 MB 5.9 MB/s eta 0:00:02\n",
      "   ---------------- ----------------------- 4.6/10.8 MB 5.9 MB/s eta 0:00:02\n",
      "   ----------------- ---------------------- 4.6/10.8 MB 3.6 MB/s eta 0:00:02\n",
      "   ----------------- ---------------------- 4.7/10.8 MB 3.5 MB/s eta 0:00:02\n",
      "   ----------------- ---------------------- 4.7/10.8 MB 3.4 MB/s eta 0:00:02\n",
      "   ----------------- ---------------------- 4.8/10.8 MB 3.4 MB/s eta 0:00:02\n",
      "   ------------------- -------------------- 5.2/10.8 MB 3.5 MB/s eta 0:00:02\n",
      "   -------------------- ------------------- 5.6/10.8 MB 3.6 MB/s eta 0:00:02\n",
      "   ---------------------- ----------------- 6.1/10.8 MB 3.8 MB/s eta 0:00:02\n",
      "   ----------------------- ---------------- 6.3/10.8 MB 3.9 MB/s eta 0:00:02\n",
      "   ------------------------ --------------- 6.5/10.8 MB 3.9 MB/s eta 0:00:02\n",
      "   ------------------------- -------------- 7.0/10.8 MB 4.1 MB/s eta 0:00:01\n",
      "   --------------------------- ------------ 7.5/10.8 MB 4.2 MB/s eta 0:00:01\n",
      "   ----------------------------- ---------- 8.1/10.8 MB 4.4 MB/s eta 0:00:01\n",
      "   -------------------------------- ------- 8.7/10.8 MB 4.6 MB/s eta 0:00:01\n",
      "   ---------------------------------- ----- 9.2/10.8 MB 4.8 MB/s eta 0:00:01\n",
      "   ------------------------------------ --- 9.8/10.8 MB 4.9 MB/s eta 0:00:01\n",
      "   -------------------------------------- - 10.3/10.8 MB 5.0 MB/s eta 0:00:01\n",
      "   ---------------------------------------  10.8/10.8 MB 5.0 MB/s eta 0:00:01\n",
      "   ---------------------------------------- 10.8/10.8 MB 4.9 MB/s eta 0:00:00\n",
      "Installing collected packages: protobuf, mysql-connector-python\n",
      "Successfully installed mysql-connector-python-8.1.0 protobuf-4.21.12\n"
     ]
    }
   ],
   "source": [
    "!pip install mysql-connector-python"
   ]
  },
  {
   "cell_type": "code",
   "execution_count": 3,
   "metadata": {},
   "outputs": [],
   "source": [
    "import mysql.connector"
   ]
  },
  {
   "cell_type": "markdown",
   "metadata": {},
   "source": [
    "#### 1. Create Connection"
   ]
  },
  {
   "cell_type": "markdown",
   "metadata": {},
   "source": [
    "```\n",
    "mydb = mysql.connector.connect(\n",
    "    host = ,\n",
    "    user = ,\n",
    "    password = ,\n",
    ")\n",
    "```\n"
   ]
  },
  {
   "cell_type": "markdown",
   "metadata": {},
   "source": [
    "#### Create Connection 예제 1\n",
    "- Local Database 연결\n"
   ]
  },
  {
   "cell_type": "code",
   "execution_count": 4,
   "metadata": {},
   "outputs": [],
   "source": [
    "local = mysql.connector.connect(\n",
    "    host = 'localhost',\n",
    "    user = 'root',\n",
    "    password = '120800'\n",
    ")"
   ]
  },
  {
   "cell_type": "markdown",
   "metadata": {},
   "source": [
    "#### Create Connection 예제 2\n",
    "- AWS RDS (database-1) 연결\n"
   ]
  },
  {
   "cell_type": "code",
   "execution_count": 5,
   "metadata": {},
   "outputs": [],
   "source": [
    "remote = mysql.connector.connect(\n",
    "    host = 'database-1.chmbp2zmsp5d.ap-southeast-2.rds.amazonaws.com',\n",
    "    port = 3306,\n",
    "    user = 'admin',\n",
    "    password = 'Jake120800!'\n",
    ")"
   ]
  },
  {
   "cell_type": "markdown",
   "metadata": {},
   "source": [
    "#### Close Database"
   ]
  },
  {
   "cell_type": "code",
   "execution_count": 6,
   "metadata": {},
   "outputs": [],
   "source": [
    "local.close()"
   ]
  },
  {
   "cell_type": "code",
   "execution_count": 7,
   "metadata": {},
   "outputs": [],
   "source": [
    "remote.close()"
   ]
  },
  {
   "cell_type": "markdown",
   "metadata": {},
   "source": [
    "#### Create Connection 예제 1\n",
    "- Local MySQL의 zerobase에 연결"
   ]
  },
  {
   "cell_type": "code",
   "execution_count": 8,
   "metadata": {},
   "outputs": [],
   "source": [
    "local = mysql.connector.connect(\n",
    "    host = 'localhost',\n",
    "    user = 'root',\n",
    "    password = '120800',\n",
    "    database = 'zerobase'\n",
    ")"
   ]
  },
  {
   "cell_type": "code",
   "execution_count": 9,
   "metadata": {},
   "outputs": [],
   "source": [
    "local.close()"
   ]
  },
  {
   "cell_type": "markdown",
   "metadata": {},
   "source": [
    "- AWS RDS(database-1)의 zerobase에 연결"
   ]
  },
  {
   "cell_type": "code",
   "execution_count": 10,
   "metadata": {},
   "outputs": [],
   "source": [
    "remote = mysql.connector.connect(\n",
    "    host = 'database-1.chmbp2zmsp5d.ap-southeast-2.rds.amazonaws.com',\n",
    "    port = 3306,\n",
    "    user = 'admin',\n",
    "    password = 'Jake120800!',\n",
    "    database = 'zerobase'\n",
    ")"
   ]
  },
  {
   "cell_type": "code",
   "execution_count": 11,
   "metadata": {},
   "outputs": [],
   "source": [
    "remote.close()"
   ]
  },
  {
   "cell_type": "markdown",
   "metadata": {},
   "source": [
    "#### Execute SQL\n",
    "- Query를 실행하기 위한 코드"
   ]
  },
  {
   "cell_type": "markdown",
   "metadata": {},
   "source": [
    "#### Execute SQL 예제 1\n",
    "- 테이블 생성"
   ]
  },
  {
   "cell_type": "code",
   "execution_count": 12,
   "metadata": {},
   "outputs": [],
   "source": [
    "remote = mysql.connector.connect(\n",
    "    host = 'database-1.chmbp2zmsp5d.ap-southeast-2.rds.amazonaws.com',\n",
    "    port = 3306,\n",
    "    user = 'admin',\n",
    "    password = 'Jake120800!',\n",
    "    database = 'zerobase'\n",
    ")\n",
    "\n",
    "cur = remote.cursor()\n",
    "cur.execute(\"create table sql_file (id int, filename varchar(16))\")\n",
    "\n",
    "remote.close()"
   ]
  },
  {
   "cell_type": "markdown",
   "metadata": {},
   "source": [
    "#### Execute SQL 예제 2\n",
    "- 테이블 삭제"
   ]
  },
  {
   "cell_type": "code",
   "execution_count": 13,
   "metadata": {},
   "outputs": [],
   "source": [
    "remote = mysql.connector.connect(\n",
    "    host = 'database-1.chmbp2zmsp5d.ap-southeast-2.rds.amazonaws.com',\n",
    "    port = 3306,\n",
    "    user = 'admin',\n",
    "    password = 'Jake120800!',\n",
    "    database = 'zerobase'\n",
    ")\n",
    "\n",
    "cur = remote.cursor()\n",
    "cur.execute(\"drop table sql_file\")\n",
    "\n",
    "remote.close()"
   ]
  },
  {
   "cell_type": "markdown",
   "metadata": {},
   "source": [
    "#### Execute SQL File 예제 1\n",
    "- test03.sql 생성, 실행"
   ]
  },
  {
   "cell_type": "code",
   "execution_count": 14,
   "metadata": {},
   "outputs": [],
   "source": [
    "remote = mysql.connector.connect(\n",
    "    host = 'database-1.chmbp2zmsp5d.ap-southeast-2.rds.amazonaws.com',\n",
    "    port = 3306,\n",
    "    user = 'admin',\n",
    "    password = 'Jake120800!',\n",
    "    database = 'zerobase'\n",
    ")\n",
    "\n",
    "cur = remote.cursor()\n",
    "sql = open(\"test03.sql\").read()\n",
    "cur.execute(sql)\n",
    "\n",
    "remote.close()"
   ]
  },
  {
   "cell_type": "markdown",
   "metadata": {},
   "source": [
    "#### Execute SQL File 예제 2\n",
    "- SQL File 내에 Query가 여러개 존재하는 경우\n",
    "- test04.sql 생성, 실행"
   ]
  },
  {
   "cell_type": "code",
   "execution_count": 17,
   "metadata": {},
   "outputs": [
    {
     "name": "stdout",
     "output_type": "stream",
     "text": [
      "insert into sql_file values (1, \"test01.sql\")\n",
      "insert into sql_file values (2, \"test02.sql\")\n",
      "insert into sql_file values (3, \"test03.sql\")\n",
      "insert into sql_file values (4, \"test04.sql\")\n"
     ]
    }
   ],
   "source": [
    "remote = mysql.connector.connect(\n",
    "    host = 'database-1.chmbp2zmsp5d.ap-southeast-2.rds.amazonaws.com',\n",
    "    port = 3306,\n",
    "    user = 'admin',\n",
    "    password = 'Jake120800!',\n",
    "    database = 'zerobase'\n",
    ")\n",
    "\n",
    "cur = remote.cursor()\n",
    "sql = open('test04.sql').read()\n",
    "for result_iterator in cur.execute(sql, multi=True):\n",
    "    if result_iterator.with_rows:\n",
    "        print(result_iterator.fetchall())\n",
    "    else:\n",
    "        print(result_iterator.statement)\n",
    "\n",
    "remote.commit()\n",
    "remote.close()"
   ]
  },
  {
   "cell_type": "markdown",
   "metadata": {},
   "source": [
    "#### Fetch All 예제\n",
    "- celeb 테이블을 조회 (읽어올 데이터 양이 많은 경우 bufferd=True)"
   ]
  },
  {
   "cell_type": "code",
   "execution_count": 18,
   "metadata": {},
   "outputs": [],
   "source": [
    "remote = mysql.connector.connect(\n",
    "    host = 'database-1.chmbp2zmsp5d.ap-southeast-2.rds.amazonaws.com',\n",
    "    port = 3306,\n",
    "    user = 'admin',\n",
    "    password = 'Jake120800!',\n",
    "    database = 'zerobase'\n",
    ")"
   ]
  },
  {
   "cell_type": "code",
   "execution_count": 20,
   "metadata": {},
   "outputs": [
    {
     "name": "stdout",
     "output_type": "stream",
     "text": [
      "(1, 'test01.sql')\n",
      "(2, 'test02.sql')\n",
      "(3, 'test03.sql')\n",
      "(4, 'test04.sql')\n"
     ]
    }
   ],
   "source": [
    "cur = remote.cursor(buffered=True)\n",
    "cur.execute(\"select * from sql_file\")\n",
    "\n",
    "result = cur.fetchall()\n",
    "#result가 list형태임.\n",
    "for result_iterator in result:\n",
    "    print(result_iterator)\n",
    "\n",
    "remote.close()"
   ]
  },
  {
   "cell_type": "code",
   "execution_count": 21,
   "metadata": {},
   "outputs": [
    {
     "data": {
      "text/plain": [
       "[(1, 'test01.sql'), (2, 'test02.sql'), (3, 'test03.sql'), (4, 'test04.sql')]"
      ]
     },
     "execution_count": 21,
     "metadata": {},
     "output_type": "execute_result"
    }
   ],
   "source": [
    "result"
   ]
  },
  {
   "cell_type": "markdown",
   "metadata": {},
   "source": [
    "#### 참고, 검색결과를 pandas로 읽기"
   ]
  },
  {
   "cell_type": "code",
   "execution_count": 22,
   "metadata": {},
   "outputs": [],
   "source": [
    "import pandas as pd"
   ]
  },
  {
   "cell_type": "code",
   "execution_count": 23,
   "metadata": {},
   "outputs": [
    {
     "data": {
      "text/html": [
       "<div>\n",
       "<style scoped>\n",
       "    .dataframe tbody tr th:only-of-type {\n",
       "        vertical-align: middle;\n",
       "    }\n",
       "\n",
       "    .dataframe tbody tr th {\n",
       "        vertical-align: top;\n",
       "    }\n",
       "\n",
       "    .dataframe thead th {\n",
       "        text-align: right;\n",
       "    }\n",
       "</style>\n",
       "<table border=\"1\" class=\"dataframe\">\n",
       "  <thead>\n",
       "    <tr style=\"text-align: right;\">\n",
       "      <th></th>\n",
       "      <th>0</th>\n",
       "      <th>1</th>\n",
       "    </tr>\n",
       "  </thead>\n",
       "  <tbody>\n",
       "    <tr>\n",
       "      <th>0</th>\n",
       "      <td>1</td>\n",
       "      <td>test01.sql</td>\n",
       "    </tr>\n",
       "    <tr>\n",
       "      <th>1</th>\n",
       "      <td>2</td>\n",
       "      <td>test02.sql</td>\n",
       "    </tr>\n",
       "    <tr>\n",
       "      <th>2</th>\n",
       "      <td>3</td>\n",
       "      <td>test03.sql</td>\n",
       "    </tr>\n",
       "    <tr>\n",
       "      <th>3</th>\n",
       "      <td>4</td>\n",
       "      <td>test04.sql</td>\n",
       "    </tr>\n",
       "  </tbody>\n",
       "</table>\n",
       "</div>"
      ],
      "text/plain": [
       "   0           1\n",
       "0  1  test01.sql\n",
       "1  2  test02.sql\n",
       "2  3  test03.sql\n",
       "3  4  test04.sql"
      ]
     },
     "execution_count": 23,
     "metadata": {},
     "output_type": "execute_result"
    }
   ],
   "source": [
    "df = pd.DataFrame(result)\n",
    "df.head()"
   ]
  },
  {
   "cell_type": "code",
   "execution_count": null,
   "metadata": {},
   "outputs": [],
   "source": []
  }
 ],
 "metadata": {
  "kernelspec": {
   "display_name": "ds_study",
   "language": "python",
   "name": "python3"
  },
  "language_info": {
   "codemirror_mode": {
    "name": "ipython",
    "version": 3
   },
   "file_extension": ".py",
   "mimetype": "text/x-python",
   "name": "python",
   "nbconvert_exporter": "python",
   "pygments_lexer": "ipython3",
   "version": "3.8.18"
  },
  "orig_nbformat": 4
 },
 "nbformat": 4,
 "nbformat_minor": 2
}
